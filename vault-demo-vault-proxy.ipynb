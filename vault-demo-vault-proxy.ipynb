{
 "cells": [
  {
   "cell_type": "markdown",
   "metadata": {},
   "source": [
    "# Overview\n",
    "\n",
    "For HashiCorp Vault, Vault Proxy can be used to proxy API calls.  This demo will showcase how Vault Proxy can be used to provide the following capabilities:\n",
    "- Auth-auth: Vault Proxy authenticates to Vault on behalf of the application.\n",
    "- Secret caching: Allows caching of static secrets (KVv1 and KVv2) and dynamic secrets. Dynamic secrets will be cached based on the TTL expiry. Static secret caching works with the new Vault event notification system enterprise feature introduced in 1.16. This allows Vault Proxy to refresh the cached entry when write/delete modifications are made to the static secret.\n",
    "\n",
    "Ref:\n",
    "- https://developer.hashicorp.com/vault/docs/agent-and-proxy/autoauth\n",
    "- https://developer.hashicorp.com/vault/docs/agent-and-proxy/proxy/caching"
   ]
  },
  {
   "cell_type": "markdown",
   "metadata": {},
   "source": [
    "# Setup Vault Enterprise"
   ]
  },
  {
   "cell_type": "markdown",
   "metadata": {},
   "source": [
    "To run this notebook in VS Code, chose the Jupyter kernel and then Bash\n",
    "\n",
    "This assumes also your Vault server is already running on http://127.0.0.1:8200\n",
    "and you have set your VAULT_ADDR and VAULT_TOKEN variables\n",
    "\n",
    "This also assumes you have the Vault CLI installed."
   ]
  },
  {
   "cell_type": "code",
   "execution_count": null,
   "metadata": {
    "vscode": {
     "languageId": "shellscript"
    }
   },
   "outputs": [],
   "source": [
    "# Optional.  The following are some sample commands for running Vault Enterprise in docker.\n",
    "export VAULT_PORT=8200\n",
    "export VAULT_ADDR=\"http://127.0.0.1:${VAULT_PORT}\"\n",
    "export VAULT_TOKEN=\"root\"\n",
    "# Change the path to your license file\n",
    "export VAULT_LICENSE=$(cat $HOME/vault-enterprise/vault_local/data/vault.hclic)\n",
    "docker run -d --rm --name vault-enterprise --cap-add=IPC_LOCK \\\n",
    "-e \"VAULT_DEV_ROOT_TOKEN_ID=${VAULT_TOKEN}\" \\\n",
    "-e \"VAULT_DEV_LISTEN_ADDRESS=:${VAULT_PORT}\" \\\n",
    "-e \"VAULT_LICENSE=${VAULT_LICENSE}\" \\\n",
    "-p ${VAULT_PORT}:${VAULT_PORT} hashicorp/vault-enterprise:latest"
   ]
  },
  {
   "cell_type": "code",
   "execution_count": null,
   "metadata": {
    "vscode": {
     "languageId": "shellscript"
    }
   },
   "outputs": [],
   "source": [
    "# Optional: You can enable file audit device for more information\n",
    "docker exec -it vault-enterprise /bin/sh -c \"mkdir /var/log/vault.d\"\n",
    "docker exec -it vault-enterprise /bin/sh -c \"touch /var/log/vault.d/vault_audit.log\"\n",
    "docker exec -it vault-enterprise /bin/sh -c \"chown -R vault:vault /var/log/vault.d\"\n",
    "vault audit enable file file_path=/var/log/vault.d/vault_audit.log\n",
    "\n",
    "# You can run the following command in the container terminal to follow the logs\n",
    "# tail -f /var/log/vault.d/vault_audit.log\n",
    "# Or you can run it from outside on your host machine\n",
    "# docker exec -it vault-enterprise /bin/sh -c \"tail -f /var/log/vault.d/vault_audit.log\"\n",
    "# Use Ctrl + C to break"
   ]
  },
  {
   "cell_type": "code",
   "execution_count": null,
   "metadata": {
    "vscode": {
     "languageId": "shellscript"
    }
   },
   "outputs": [],
   "source": [
    "# Enable approle Auth, we will use this for the Vault Proxy's authentication\n",
    "vault auth enable approle"
   ]
  },
  {
   "cell_type": "code",
   "execution_count": null,
   "metadata": {
    "vscode": {
     "languageId": "shellscript"
    }
   },
   "outputs": [],
   "source": [
    "# Create a KVv2 static secret for the demo, this simulates a credential/secret for an application\n",
    "vault kv put -mount=secret my-application/my-credentials userid=johndoe password=mypassword"
   ]
  },
  {
   "cell_type": "code",
   "execution_count": null,
   "metadata": {
    "vscode": {
     "languageId": "shellscript"
    }
   },
   "outputs": [],
   "source": [
    "# Create a policy that will be tied to the approle used by Vault Proxy\n",
    "vault policy write kv-proxy-policy - << EOF\n",
    "path \"sys/capabilities-self\" {\n",
    "    capabilities = [\"update\"]\n",
    "}\n",
    "path \"secret/data/my-application/*\" {\n",
    "  capabilities = [\"create\", \"update\", \"read\", \"list\", \"subscribe\"]\n",
    "  subscribe_event_types = [\"*\"]\n",
    "}\n",
    "\n",
    "path \"sys/events/subscribe/*\" {\n",
    "  capabilities = [\"read\"]\n",
    "}\n",
    "EOF"
   ]
  },
  {
   "cell_type": "code",
   "execution_count": null,
   "metadata": {
    "vscode": {
     "languageId": "shellscript"
    }
   },
   "outputs": [],
   "source": [
    "# Create the approle for the Vault Proxy with the above policy\n",
    "# Secret ID TTL is currently set to 10m validity.\n",
    "vault write auth/approle/role/kv-proxy-app-role \\\n",
    "    secret_id_ttl=10m \\\n",
    "    token_num_uses=0 \\\n",
    "    token_ttl=20m \\\n",
    "    token_max_ttl=30m \\\n",
    "    secret_id_num_uses=40 \\\n",
    "    token_policies=kv-proxy-policy,default\n",
    "# Show settings on app role\n",
    "vault read auth/approle/role/kv-proxy-app-role"
   ]
  },
  {
   "cell_type": "code",
   "execution_count": null,
   "metadata": {
    "vscode": {
     "languageId": "shellscript"
    }
   },
   "outputs": [],
   "source": [
    "# Store roleid value for Vault Agent\n",
    "vault read -field=role_id auth/approle/role/kv-proxy-app-role/role-id > roleid"
   ]
  },
  {
   "cell_type": "code",
   "execution_count": null,
   "metadata": {
    "vscode": {
     "languageId": "shellscript"
    }
   },
   "outputs": [],
   "source": [
    "# Store secretid value for Vault Agent\n",
    "vault write -f -field=secret_id auth/approle/role/kv-proxy-app-role/secret-id > secretid"
   ]
  },
  {
   "cell_type": "code",
   "execution_count": null,
   "metadata": {
    "vscode": {
     "languageId": "shellscript"
    }
   },
   "outputs": [],
   "source": [
    "# Create the Vault Proxy configuration file. The Vault container is exposed via local port 8200.\n",
    "# For the demo, we will be running Vault Proxy locally in a terminal on port 8100.\n",
    "tee proxy.hcl <<EOF\n",
    "pid_file = \"./pidfile\"\n",
    "\n",
    "vault {\n",
    "  address = \"http://127.0.0.1:8200\"\n",
    "  retry {\n",
    "    num_retries = 5\n",
    "  }\n",
    "}\n",
    "\n",
    "auto_auth {\n",
    "  method {\n",
    "    type = \"approle\"\n",
    "    config = {\n",
    "      role_id_file_path = \"roleid\"\n",
    "      secret_id_file_path = \"secretid\"\n",
    "      remove_secret_id_file_after_reading = false\n",
    "    }\n",
    "  }\n",
    "}\n",
    "cache {\n",
    "  cache_static_secrets = true\n",
    "}\n",
    "\n",
    "api_proxy {\n",
    "  use_auto_auth_token = \"force\"\n",
    "}\n",
    "\n",
    "listener \"tcp\" {\n",
    "    address = \"127.0.0.1:8100\"\n",
    "    tls_disable = true\n",
    "}\n",
    "log_level=\"TRACE\"\n",
    "EOF"
   ]
  },
  {
   "cell_type": "code",
   "execution_count": null,
   "metadata": {
    "vscode": {
     "languageId": "shellscript"
    }
   },
   "outputs": [],
   "source": [
    "# Run the vault proxy in a new terminal window.\n",
    "# Type ^ + Shift + ` to open a new terminal windows in VS Code\n",
    "# Copy and paste the follow command to start the Vault proxy\n",
    "# vault proxy -config=proxy.hcl"
   ]
  },
  {
   "cell_type": "markdown",
   "metadata": {},
   "source": [
    "# Testing Vault Proxy Auto-Auth and Static Secret Caching\n",
    "\n",
    "When doing the API call below, you will notice that there is no Vault token required.  This shows the auto-auth feature in action."
   ]
  },
  {
   "cell_type": "code",
   "execution_count": null,
   "metadata": {
    "vscode": {
     "languageId": "shellscript"
    }
   },
   "outputs": [],
   "source": [
    "# You can open the docker dashboard and view the Vault container logs side by side as you run this\n",
    "# Run an API call using curl to simulate the application accessing the secret\n",
    "# You can see from the terminal window that the Vault Proxy will retrieve the secret from Vault on the first call.\n",
    "# On subsequent calls, it retreives the secret from the Vault Proxy cache and there is no calls made to Vault subsequently.\n",
    "curl http://127.0.0.1:8100/v1/secret/data/my-application/my-credentials"
   ]
  },
  {
   "cell_type": "markdown",
   "metadata": {},
   "source": [
    "## Vault Proxy with Vault event notification system\n",
    "\n",
    "We will now see the how Vault Proxy is notified of changes on the secret via the Vault event notification system. This is used to refresh the cached entry."
   ]
  },
  {
   "cell_type": "code",
   "execution_count": null,
   "metadata": {
    "vscode": {
     "languageId": "shellscript"
    }
   },
   "outputs": [],
   "source": [
    "# Update the password. You can run either of the following commands to alternate updates.\n",
    "# Note in the terminal that the Vault Proxy will be notified of the write event and it will refresh the cache"
   ]
  },
  {
   "cell_type": "code",
   "execution_count": null,
   "metadata": {
    "vscode": {
     "languageId": "shellscript"
    }
   },
   "outputs": [],
   "source": [
    "# Update password to 12345678\n",
    "vault kv put -mount=secret my-application/my-credentials userid=johndoe password=12345678"
   ]
  },
  {
   "cell_type": "code",
   "execution_count": null,
   "metadata": {
    "vscode": {
     "languageId": "shellscript"
    }
   },
   "outputs": [],
   "source": [
    "# Update password to abcdefgh\n",
    "vault kv put -mount=secret my-application/my-credentials userid=johndoe password=abcdefgh"
   ]
  },
  {
   "cell_type": "code",
   "execution_count": null,
   "metadata": {
    "vscode": {
     "languageId": "shellscript"
    }
   },
   "outputs": [],
   "source": [
    "# Verify that the new password is returned from the cache\n",
    "curl http://127.0.0.1:8100/v1/secret/data/my-application/my-credentials"
   ]
  },
  {
   "cell_type": "markdown",
   "metadata": {},
   "source": [
    "# Cleanup"
   ]
  },
  {
   "cell_type": "code",
   "execution_count": null,
   "metadata": {
    "vscode": {
     "languageId": "shellscript"
    }
   },
   "outputs": [],
   "source": [
    "# Terminate the Vault Proxy in the terminal window by using Ctrl + C"
   ]
  },
  {
   "cell_type": "code",
   "execution_count": null,
   "metadata": {
    "vscode": {
     "languageId": "shellscript"
    }
   },
   "outputs": [],
   "source": [
    "# Cleanup\n",
    "export VAULT_PORT=8200\n",
    "export VAULT_ADDR=\"http://127.0.0.1:${VAULT_PORT}\"\n",
    "export VAULT_TOKEN=\"root\"\n",
    "\n",
    "# Remove temp files\n",
    "# rm cert.json\n",
    "# rm agent-token\n",
    "rm roleid\n",
    "rm secretid\n",
    "rm proxy.hcl\n",
    "rm pidfile\n",
    "\n",
    "# Disable secrets engine and approle auth\n",
    "vault auth disable approle\n",
    "\n",
    "# Stop Vault\n",
    "docker stop vault-enterprise"
   ]
  },
  {
   "cell_type": "markdown",
   "metadata": {},
   "source": [
    "# Other Useful Commands"
   ]
  },
  {
   "cell_type": "code",
   "execution_count": null,
   "metadata": {
    "vscode": {
     "languageId": "shellscript"
    }
   },
   "outputs": [],
   "source": [
    "# To subscribe to KVv2 write events\n",
    "vault events subscribe kv-v2/data-write"
   ]
  },
  {
   "cell_type": "code",
   "execution_count": null,
   "metadata": {
    "vscode": {
     "languageId": "shellscript"
    }
   },
   "outputs": [],
   "source": [
    "# Retrieve KV secret via Vault CLI\n",
    "vault kv get -mount=secret my-application/my-credentials"
   ]
  }
 ],
 "metadata": {
  "kernelspec": {
   "display_name": "Bash",
   "language": "bash",
   "name": "bash"
  },
  "language_info": {
   "codemirror_mode": "shell",
   "file_extension": ".sh",
   "mimetype": "text/x-sh",
   "name": "bash"
  },
  "orig_nbformat": 4
 },
 "nbformat": 4,
 "nbformat_minor": 2
}
