{
 "cells": [
  {
   "cell_type": "markdown",
   "metadata": {},
   "source": [
    "# Overview\n",
    "\n",
    "For HashiCorp Vault, Vault Proxy can be used to proxy API calls. This demo will showcase how Vault Proxy can be used to provide the following capabilities:\n",
    "1. API Proxy: Functions as a proxy layer to the main Vault cluster.\n",
    "2. Auth-auth: Vault Proxy authenticates to Vault on behalf of the application.\n",
    "3. Secret caching: Allows caching of static secrets (KVv1 and KVv2) and dynamic secrets (Dynamic Roles only).\n",
    "   - Dynamic secrets will be cached based on the TTL expiry. For the demo, we will be using the LDAP engine for dynamic secrets.\n",
    "   - Static secret caching works with the new Vault event notification system (Enterprise feature) introduced in 1.16. This allows Vault Proxy to refresh the cached entry when write/delete modifications are made to the static secret.\n",
    "\n",
    "<img src=images/vault-demo-vault-proxy.png>\n",
    "\n",
    "Ref:\n",
    "- https://developer.hashicorp.com/vault/docs/agent-and-proxy/autoauth\n",
    "- https://developer.hashicorp.com/vault/docs/agent-and-proxy/proxy/caching\n",
    "- https://developer.hashicorp.com/vault/docs/concepts/events"
   ]
  },
  {
   "cell_type": "markdown",
   "metadata": {},
   "source": [
    "# Setup Pre-requisites (One-time)\n",
    "\n",
    "Assumes you have docker installed and brew installed\n",
    "\n",
    "- https://docs.docker.com/desktop/install/mac-install/\n",
    "- https://brew.sh/"
   ]
  },
  {
   "cell_type": "code",
   "execution_count": null,
   "metadata": {
    "vscode": {
     "languageId": "shellscript"
    }
   },
   "outputs": [],
   "source": [
    "# Check that the various ldap utilities used in this demo is available on your MacBook\n",
    "# Note bind errors are normal as the OpenLDAP server is not running yet on localhost\n",
    "ldapadd -V\n",
    "ldapsearch -V\n",
    "ldapwhoami -V"
   ]
  },
  {
   "cell_type": "markdown",
   "metadata": {},
   "source": [
    "# Setup Vault Enterprise and OpenLDAP"
   ]
  },
  {
   "cell_type": "markdown",
   "metadata": {},
   "source": [
    "To run this notebook in VS Code, chose the Jupyter kernel and then Bash\n",
    "\n",
    "This assumes also your Vault server is already running on http://127.0.0.1:8200\n",
    "and you have set your VAULT_ADDR and VAULT_TOKEN variables\n",
    "\n",
    "This also assumes you have the Vault CLI installed."
   ]
  },
  {
   "cell_type": "code",
   "execution_count": null,
   "metadata": {
    "vscode": {
     "languageId": "shellscript"
    }
   },
   "outputs": [],
   "source": [
    "# Optional.  The following are some sample commands for running Vault Enterprise in docker.\n",
    "export VAULT_PORT=8200\n",
    "export VAULT_ADDR=\"http://127.0.0.1:${VAULT_PORT}\"\n",
    "export VAULT_TOKEN=\"root\"\n",
    "# Change the path to your license file\n",
    "export VAULT_LICENSE=$(cat $HOME/vault-enterprise/vault_local/data/vault.hclic)\n",
    "docker run -d --rm --name vault-enterprise --cap-add=IPC_LOCK \\\n",
    "-e \"VAULT_DEV_ROOT_TOKEN_ID=${VAULT_TOKEN}\" \\\n",
    "-e \"VAULT_DEV_LISTEN_ADDRESS=:${VAULT_PORT}\" \\\n",
    "-e \"VAULT_LICENSE=${VAULT_LICENSE}\" \\\n",
    "-p ${VAULT_PORT}:${VAULT_PORT} hashicorp/vault-enterprise:latest\n"
   ]
  },
  {
   "cell_type": "code",
   "execution_count": null,
   "metadata": {
    "vscode": {
     "languageId": "shellscript"
    }
   },
   "outputs": [],
   "source": [
    "# Optional: You can enable file audit device for more information\n",
    "docker exec -it vault-enterprise /bin/sh -c \"mkdir /var/log/vault.d\"\n",
    "docker exec -it vault-enterprise /bin/sh -c \"touch /var/log/vault.d/vault_audit.log\"\n",
    "docker exec -it vault-enterprise /bin/sh -c \"chown -R vault:vault /var/log/vault.d\"\n",
    "vault audit enable file file_path=/var/log/vault.d/vault_audit.log\n",
    "\n",
    "# You can run the following command in the container terminal to follow the logs\n",
    "# tail -f /var/log/vault.d/vault_audit.log\n",
    "# Or you can run it from outside on your host machine\n",
    "# docker exec -it vault-enterprise /bin/sh -c \"tail -f /var/log/vault.d/vault_audit.log\"\n",
    "# Use Ctrl + C to break"
   ]
  },
  {
   "cell_type": "code",
   "execution_count": null,
   "metadata": {
    "vscode": {
     "languageId": "shellscript"
    }
   },
   "outputs": [],
   "source": [
    "# Run a OpenLDAP server for the Dynamic Secret caching portion of the demo\n",
    "# Using 1.4.0 as there is an issue in 1.5.0 where the admin user is missing\n",
    "# Ref: https://github.com/osixia/docker-openldap/issues/555\n",
    "export LDAP_PORT=389\n",
    "export LDAPS_PORT=636\n",
    "export LDAP_ORG=\"myorg\"\n",
    "export LDAP_DOMAIN=\"mydomain.demo\"\n",
    "export LDAP_ADMIN_PASSWORD=\"Password123\"\n",
    "export LDAP_DN=\"dc=mydomain,dc=demo\"\n",
    "\n",
    "docker run -d --rm \\\n",
    "  --name openldap \\\n",
    "  -e \"LDAP_ORGANISATION=${LDAP_ORG}\" \\\n",
    "  -e \"LDAP_DOMAIN=${LDAP_DOMAIN}\" \\\n",
    "  -e \"LDAP_ADMIN_PASSWORD=${LDAP_ADMIN_PASSWORD}\" \\\n",
    "  -p ${LDAP_PORT}:${LDAP_PORT} \\\n",
    "  -p ${LDAPS_PORT}:${LDAPS_PORT} \\\n",
    "  osixia/openldap:1.4.0\n"
   ]
  },
  {
   "cell_type": "code",
   "execution_count": null,
   "metadata": {
    "vscode": {
     "languageId": "shellscript"
    }
   },
   "outputs": [],
   "source": [
    "# Verify Vault, and OpenLDAP containers are running\n",
    "docker ps"
   ]
  },
  {
   "cell_type": "markdown",
   "metadata": {},
   "source": [
    "# Configure Vault for Vault Proxy and Setup Secrets for Demo"
   ]
  },
  {
   "cell_type": "markdown",
   "metadata": {},
   "source": [
    "## Setup Static Secret"
   ]
  },
  {
   "cell_type": "code",
   "execution_count": null,
   "metadata": {
    "vscode": {
     "languageId": "shellscript"
    }
   },
   "outputs": [],
   "source": [
    "# Create a KVv2 static secret for the demo, this simulates a credential/secret for an application\n",
    "vault kv put -mount=secret my-application/my-credentials userid=johndoe password=mypassword"
   ]
  },
  {
   "cell_type": "markdown",
   "metadata": {},
   "source": [
    "## Setup Auto-Auth using AppRole"
   ]
  },
  {
   "cell_type": "code",
   "execution_count": null,
   "metadata": {
    "vscode": {
     "languageId": "shellscript"
    }
   },
   "outputs": [],
   "source": [
    "# Enable approle Auth, we will use this for the Vault Proxy's authentication\n",
    "vault auth enable approle"
   ]
  },
  {
   "cell_type": "code",
   "execution_count": null,
   "metadata": {
    "vscode": {
     "languageId": "shellscript"
    }
   },
   "outputs": [],
   "source": [
    "# Create a policy that will be tied to the approle used by Vault Proxy\n",
    "vault policy write kv-proxy-policy - << EOF\n",
    "path \"sys/capabilities-self\" {\n",
    "    capabilities = [\"update\"]\n",
    "}\n",
    "path \"secret/data/my-application/*\" {\n",
    "  capabilities = [\"create\", \"update\", \"read\", \"list\", \"subscribe\"]\n",
    "  subscribe_event_types = [\"*\"]\n",
    "}\n",
    "\n",
    "path \"sys/events/subscribe/*\" {\n",
    "  capabilities = [\"read\"]\n",
    "}\n",
    "EOF"
   ]
  },
  {
   "cell_type": "code",
   "execution_count": null,
   "metadata": {
    "vscode": {
     "languageId": "shellscript"
    }
   },
   "outputs": [],
   "source": [
    "# Create the approle for the Vault Proxy with the above policy\n",
    "# Secret ID usage is currently limited to 10 and token is refreshed every 60 minute\n",
    "vault write auth/approle/role/kv-proxy-app-role \\\n",
    "    secret_id_ttl=0 \\\n",
    "    token_num_uses=0 \\\n",
    "    token_ttl=60m \\\n",
    "    secret_id_num_uses=10 \\\n",
    "    token_policies=kv-proxy-policy,default\n",
    "# Show settings on app role\n",
    "vault read auth/approle/role/kv-proxy-app-role"
   ]
  },
  {
   "cell_type": "code",
   "execution_count": null,
   "metadata": {
    "vscode": {
     "languageId": "shellscript"
    }
   },
   "outputs": [],
   "source": [
    "# Store roleid value for Vault Agent\n",
    "vault read -field=role_id auth/approle/role/kv-proxy-app-role/role-id > roleid"
   ]
  },
  {
   "cell_type": "code",
   "execution_count": null,
   "metadata": {
    "vscode": {
     "languageId": "shellscript"
    }
   },
   "outputs": [],
   "source": [
    "# Store secretid value for Vault Agent\n",
    "vault write -f -field=secret_id auth/approle/role/kv-proxy-app-role/secret-id > secretid"
   ]
  },
  {
   "cell_type": "markdown",
   "metadata": {},
   "source": [
    "## Configure and start Vault Proxy"
   ]
  },
  {
   "cell_type": "code",
   "execution_count": null,
   "metadata": {
    "vscode": {
     "languageId": "shellscript"
    }
   },
   "outputs": [],
   "source": [
    "# Create the Vault Proxy configuration file. The Vault container is exposed via local port 8200.\n",
    "# For the demo, we will be running Vault Proxy locally in a terminal on port 8100.\n",
    "tee proxy.hcl <<EOF\n",
    "pid_file = \"./pidfile\"\n",
    "\n",
    "vault {\n",
    "  address = \"http://127.0.0.1:8200\"\n",
    "  retry {\n",
    "    num_retries = 5\n",
    "  }\n",
    "}\n",
    "\n",
    "auto_auth {\n",
    "  method {\n",
    "    type = \"approle\"\n",
    "    config = {\n",
    "      role_id_file_path = \"roleid\"\n",
    "      secret_id_file_path = \"secretid\"\n",
    "      remove_secret_id_file_after_reading = false\n",
    "    }\n",
    "  }\n",
    "}\n",
    "cache {\n",
    "  cache_static_secrets = true\n",
    "  disable_caching_dynamic_secrets = false\n",
    "}\n",
    "\n",
    "api_proxy {\n",
    "  use_auto_auth_token = \"force\"\n",
    "}\n",
    "\n",
    "listener \"tcp\" {\n",
    "    address = \"127.0.0.1:8100\"\n",
    "    tls_disable = true\n",
    "}\n",
    "log_level=\"TRACE\"\n",
    "EOF"
   ]
  },
  {
   "cell_type": "code",
   "execution_count": null,
   "metadata": {
    "vscode": {
     "languageId": "shellscript"
    }
   },
   "outputs": [],
   "source": [
    "# Run the vault proxy in a new terminal window.\n",
    "# Type ^ + Shift + ` to open a new terminal windows in VS Code\n",
    "# Copy and paste the follow command to start the Vault proxy\n",
    "# vault proxy -config=proxy.hcl"
   ]
  },
  {
   "cell_type": "markdown",
   "metadata": {},
   "source": [
    "# Testing Vault Proxy Auto-Auth and Static Secret Caching\n",
    "\n",
    "When doing the API call below, you will notice that there is no Vault token required.  This shows the auto-auth feature in action."
   ]
  },
  {
   "cell_type": "code",
   "execution_count": null,
   "metadata": {
    "vscode": {
     "languageId": "shellscript"
    }
   },
   "outputs": [],
   "source": [
    "# You can open the docker dashboard and view the Vault container logs side by side as you run this\n",
    "# Run an API call using curl to simulate the application accessing the secret\n",
    "# You can see from the terminal window that the Vault Proxy will retrieve the secret from Vault on the first call.\n",
    "# On subsequent calls, it retreives the secret from the Vault Proxy cache and there is no calls made to Vault subsequently.\n",
    "#curl --header \"X-Vault-Token: $VAULT_TOKEN\" http://127.0.0.1:8100/v1/secret/data/my-application/my-credentials\n",
    "curl http://127.0.0.1:8100/v1/secret/data/my-application/my-credentials | jq"
   ]
  },
  {
   "cell_type": "code",
   "execution_count": null,
   "metadata": {
    "vscode": {
     "languageId": "shellscript"
    }
   },
   "outputs": [],
   "source": [
    "# Configure CLI to point to Vault Proxy\n",
    "export VAULT_PORT=8100\n",
    "export VAULT_ADDR=\"http://127.0.0.1:${VAULT_PORT}\"\n",
    "unset VAULT_TOKEN"
   ]
  },
  {
   "cell_type": "code",
   "execution_count": null,
   "metadata": {
    "vscode": {
     "languageId": "shellscript"
    }
   },
   "outputs": [],
   "source": [
    "# Test retrieving KV secret via Vault CLI read command.  \n",
    "# Verify that the credential is returned from the cache.\n",
    "vault read secret/data/my-application/my-credentials"
   ]
  },
  {
   "cell_type": "markdown",
   "metadata": {},
   "source": [
    "## Vault Proxy with Vault event notification system\n",
    "\n",
    "We will now see the how Vault Proxy is notified of changes on the secret via the Vault event notification system. This is used to refresh the cached entry."
   ]
  },
  {
   "cell_type": "code",
   "execution_count": null,
   "metadata": {
    "vscode": {
     "languageId": "shellscript"
    }
   },
   "outputs": [],
   "source": [
    "# Configure CLI to point to Vault Server\n",
    "export VAULT_PORT=8200\n",
    "export VAULT_ADDR=\"http://127.0.0.1:${VAULT_PORT}\"\n",
    "export VAULT_TOKEN=\"root\""
   ]
  },
  {
   "cell_type": "code",
   "execution_count": null,
   "metadata": {
    "vscode": {
     "languageId": "shellscript"
    }
   },
   "outputs": [],
   "source": [
    "# Update the password. You can run either of the following commands to alternate updates.\n",
    "# Note in the terminal that the Vault Proxy will be notified of the write event and it will refresh the cache"
   ]
  },
  {
   "cell_type": "code",
   "execution_count": null,
   "metadata": {
    "vscode": {
     "languageId": "shellscript"
    }
   },
   "outputs": [],
   "source": [
    "# Update password to '12345678'\n",
    "vault kv put -mount=secret my-application/my-credentials userid=johndoe password=12345678"
   ]
  },
  {
   "cell_type": "code",
   "execution_count": null,
   "metadata": {
    "vscode": {
     "languageId": "shellscript"
    }
   },
   "outputs": [],
   "source": [
    "# Verify that the new password '12345678' is returned from the cache immediately.\n",
    "curl http://127.0.0.1:8100/v1/secret/data/my-application/my-credentials | jq"
   ]
  },
  {
   "cell_type": "code",
   "execution_count": null,
   "metadata": {
    "vscode": {
     "languageId": "shellscript"
    }
   },
   "outputs": [],
   "source": [
    "# Update password to 'abcdefgh'\n",
    "vault kv put -mount=secret my-application/my-credentials userid=johndoe password=abcdefgh"
   ]
  },
  {
   "cell_type": "code",
   "execution_count": null,
   "metadata": {
    "vscode": {
     "languageId": "shellscript"
    }
   },
   "outputs": [],
   "source": [
    "# Verify that the new password abcdefgh is returned from the cache immediately.\n",
    "curl http://127.0.0.1:8100/v1/secret/data/my-application/my-credentials | jq"
   ]
  },
  {
   "cell_type": "markdown",
   "metadata": {},
   "source": [
    "# Testing Vault Proxy with Dynamic Secret Caching\n",
    "\n",
    "For demo purposes, we will be using the LDAP engine with an OpenLDAP server to demonstrate how Vault Proxy works with dynamic engines.\n",
    "\n",
    "Ref:\n",
    "- https://developer.hashicorp.com/vault/docs/secrets/ldap\n",
    "- https://developer.hashicorp.com/vault/tutorials/secrets-management/openldap\n",
    "\n",
    "## Populate OpenLDAP with Test Objects"
   ]
  },
  {
   "cell_type": "code",
   "execution_count": null,
   "metadata": {
    "vscode": {
     "languageId": "shellscript"
    }
   },
   "outputs": [],
   "source": [
    "# Populate LDAP server with test objects\n",
    "export LDAP_TEST_USER=\"john\"\n",
    "export LDAP_TEST_USER_PASSWORD=\"Password123\"\n",
    "export LDAP_TEST_GROUP=\"finance\"\n",
    "\n",
    "tee openldapsetup.ldif <<EOF\n",
    "dn: ou=groups,$LDAP_DN\n",
    "objectClass: organizationalunit\n",
    "objectClass: top\n",
    "ou: groups\n",
    "description: groups of users\n",
    "\n",
    "dn: ou=users,$LDAP_DN\n",
    "objectClass: organizationalunit\n",
    "objectClass: top\n",
    "ou: users\n",
    "description: users\n",
    "\n",
    "dn: cn=$LDAP_TEST_GROUP,ou=groups,$LDAP_DN\n",
    "objectClass: groupofnames\n",
    "objectClass: top\n",
    "description: testing group for dev\n",
    "cn: $LDAP_TEST_GROUP\n",
    "member: cn=$LDAP_TEST_USER,ou=users,$LDAP_DN\n",
    "\n",
    "dn: cn=$LDAP_TEST_USER,ou=users,$LDAP_DN\n",
    "objectClass: person\n",
    "objectClass: top\n",
    "cn: $LDAP_TEST_USER\n",
    "sn: $LDAP_TEST_USER\n",
    "memberOf: cn=$LDAP_TEST_GROUP,ou=groups,$LDAP_DN\n",
    "userPassword: $LDAP_TEST_USER_PASSWORD\n",
    "EOF\n",
    "\n",
    "ldapadd -c -w $LDAP_ADMIN_PASSWORD -D \"cn=admin,$LDAP_DN\" -f openldapsetup.ldif"
   ]
  },
  {
   "cell_type": "code",
   "execution_count": null,
   "metadata": {
    "vscode": {
     "languageId": "shellscript"
    }
   },
   "outputs": [],
   "source": [
    "# Show the configured LDAP objects\n",
    "echo \"LDAP DN: $LDAP_DN\"\n",
    "echo \"LDAP Admin Password: $LDAP_ADMIN_PASSWORD\"\n",
    "ldapsearch -x -b $LDAP_DN -D \"cn=admin,$LDAP_DN\" -w $LDAP_ADMIN_PASSWORD"
   ]
  },
  {
   "cell_type": "markdown",
   "metadata": {},
   "source": [
    "## Configure Vault's LDAP Engine"
   ]
  },
  {
   "cell_type": "code",
   "execution_count": null,
   "metadata": {
    "vscode": {
     "languageId": "shellscript"
    }
   },
   "outputs": [],
   "source": [
    "# Enable the LDAP secrets engine\n",
    "vault secrets enable ldap"
   ]
  },
  {
   "cell_type": "code",
   "execution_count": null,
   "metadata": {
    "vscode": {
     "languageId": "shellscript"
    }
   },
   "outputs": [],
   "source": [
    "# As both Vault and OpenLDAP is running on docker, Vault will be connecting to OpenLDAP via the docker bridge network\n",
    "# Obtain IP address of the OpenLDAP server for configuration\n",
    "export OPENLDAP_IP=$(docker inspect -f '{{range .NetworkSettings.Networks}}{{.IPAddress}}{{end}}' openldap)\n",
    "echo \"OpenLDAP Server IP Address is: $OPENLDAP_IP\"\n",
    "\n",
    "export OPENLDAP_URL=${OPENLDAP_IP}:${LDAP_PORT}\n",
    "echo \"OpenLDAP URL: $OPENLDAP_URL\"\n",
    "echo \"LDAP DN: $LDAP_DN\"\n",
    "echo \"LDAP Admin Password: $LDAP_ADMIN_PASSWORD\"\n",
    "\n",
    "vault write ldap/config \\\n",
    "    binddn=\"cn=admin,$LDAP_DN\" \\\n",
    "    bindpass=$LDAP_ADMIN_PASSWORD \\\n",
    "    schema=\"openldap\" \\\n",
    "    url=ldap://$OPENLDAP_URL \\\n",
    "    skip_static_role_import_rotation=false\n",
    "echo\n",
    "vault read ldap/config\n",
    "\n"
   ]
  },
  {
   "cell_type": "code",
   "execution_count": null,
   "metadata": {
    "vscode": {
     "languageId": "shellscript"
    }
   },
   "outputs": [],
   "source": [
    "# Rotate the LDAP root credential (Optional)\n",
    "vault write -f ldap/rotate-root"
   ]
  },
  {
   "cell_type": "code",
   "execution_count": null,
   "metadata": {
    "vscode": {
     "languageId": "shellscript"
    }
   },
   "outputs": [],
   "source": [
    "# Note that even though we have rotated the root password, there is an existing behaviour in \n",
    "# the OpenLDAP container that allows us to login using the old password\n",
    "# https://github.com/osixia/docker-openldap/issues/161\n",
    "# We will be using this behavor to show the rotated password. This would not be possible in normal circumstances.\n",
    "echo \"LDAP DN: $LDAP_DN\"\n",
    "export LDAP_ADMIN_PASSWORD=\"Password123\"\n",
    "# Store the new password\n",
    "export LDAP_ADMIN_PASSWORD=$(ldapsearch -LLL -o ldif-wrap=no -x -b \"cn=admin,$LDAP_DN\" -D \"cn=admin,$LDAP_DN\" -w $LDAP_ADMIN_PASSWORD | grep userPassword | awk '{print $2}' | base64 -d)\n",
    "echo \"New LDAP Admin Password: $LDAP_ADMIN_PASSWORD\"\n"
   ]
  },
  {
   "cell_type": "code",
   "execution_count": null,
   "metadata": {
    "vscode": {
     "languageId": "shellscript"
    }
   },
   "outputs": [],
   "source": [
    "# Show that the admin is able to login with the new rotated password\n",
    "echo \"LDAP DN: $LDAP_DN\"\n",
    "echo \"LDAP Admin Password: $LDAP_ADMIN_PASSWORD\"\n",
    "ldapsearch -LLL -x -b \"cn=admin,$LDAP_DN\" -D \"cn=admin,$LDAP_DN\" -w $LDAP_ADMIN_PASSWORD"
   ]
  },
  {
   "cell_type": "markdown",
   "metadata": {},
   "source": [
    "## Configure a LDAP Static Role\n",
    "\n",
    "This represents a fixed LDAP user where Vault manages the password rotation."
   ]
  },
  {
   "cell_type": "code",
   "execution_count": null,
   "metadata": {
    "vscode": {
     "languageId": "shellscript"
    }
   },
   "outputs": [],
   "source": [
    "# Configure static role for the LDAP user created earlier\n",
    "export LDAP_STATIC_ROLE=\"my-static-role\"\n",
    "export LDAP_STATIC_ROLE_TTL=\"1h\"\n",
    "\n",
    "echo \"LDAP_DN: $LDAP_DN\"\n",
    "echo \"LDAP_TEST_USER: $LDAP_TEST_USER\"\n",
    "vault write ldap/static-role/$LDAP_STATIC_ROLE \\\n",
    "    dn=\"cn=$LDAP_TEST_USER,ou=users,$LDAP_DN\" \\\n",
    "    username=\"$LDAP_TEST_USER\" \\\n",
    "    rotation_period=\"$LDAP_STATIC_ROLE_TTL\"\n",
    "echo\n",
    "vault read ldap/static-role/my-static-role"
   ]
  },
  {
   "cell_type": "code",
   "execution_count": null,
   "metadata": {
    "vscode": {
     "languageId": "shellscript"
    }
   },
   "outputs": [],
   "source": [
    "# Show the rotation of the static role password\n",
    "vault write -f ldap/rotate-role/$LDAP_STATIC_ROLE"
   ]
  },
  {
   "cell_type": "code",
   "execution_count": null,
   "metadata": {
    "vscode": {
     "languageId": "shellscript"
    }
   },
   "outputs": [],
   "source": [
    "# Read my-static-role password\n",
    "vault read ldap/static-cred/$LDAP_STATIC_ROLE\n",
    "export LDAP_TEST_USER_PASSWORD=$(vault read -field=password ldap/static-cred/$LDAP_STATIC_ROLE)\n",
    "echo\n",
    "echo \"LDAP_TEST_USER_PASSWORD: $LDAP_TEST_USER_PASSWORD\""
   ]
  },
  {
   "cell_type": "code",
   "execution_count": null,
   "metadata": {
    "vscode": {
     "languageId": "shellscript"
    }
   },
   "outputs": [],
   "source": [
    "# Show that the test user is able to login with the new rotated password\n",
    "echo \"LDAP DN: $LDAP_DN\"\n",
    "echo \"LDAP_TEST_USER: $LDAP_TEST_USER\"\n",
    "#export LDAP_TEST_USER_PASSWORD=\"Password123\"\n",
    "echo \"LDAP_TEST_USER_PASSWORD: $LDAP_TEST_USER_PASSWORD\"\n",
    "echo\n",
    "ldapwhoami -vvv -h localhost -p 389 -D \"cn=$LDAP_TEST_USER,ou=users,$LDAP_DN\" -x -w \"$LDAP_TEST_USER_PASSWORD\"\n"
   ]
  },
  {
   "cell_type": "code",
   "execution_count": null,
   "metadata": {
    "vscode": {
     "languageId": "shellscript"
    }
   },
   "outputs": [],
   "source": [
    "# Update the Vault Proxy policy to allow reading of the LDAP both static (ldap/static-cred/*) and dynamic (ldap/cred/*) role credentials\n",
    "vault policy write kv-proxy-policy - << EOF\n",
    "path \"sys/capabilities-self\" {\n",
    "    capabilities = [\"update\"]\n",
    "}\n",
    "path \"secret/data/my-application/*\" {\n",
    "  capabilities = [\"create\", \"update\", \"read\", \"list\", \"subscribe\"]\n",
    "  subscribe_event_types = [\"*\"]\n",
    "}\n",
    "\n",
    "path \"ldap/static-cred/*\" {\n",
    "  capabilities = [\"read\"]\n",
    "}\n",
    "\n",
    "path \"ldap/creds/*\" {\n",
    "  capabilities = [\"read\"]\n",
    "}\n",
    "\n",
    "path \"sys/events/subscribe/*\" {\n",
    "  capabilities = [\"read\"]\n",
    "}\n",
    "EOF"
   ]
  },
  {
   "cell_type": "code",
   "execution_count": null,
   "metadata": {
    "vscode": {
     "languageId": "shellscript"
    }
   },
   "outputs": [],
   "source": [
    "# You will notice that this call is a pass through.\n",
    "# Note: Vault Proxy currently does not cache the static role values.\n",
    "#       You will see a \"forwarding request to Vault\" message in the terminal.\n",
    "curl http://127.0.0.1:8100/v1/ldap/static-cred/$LDAP_STATIC_ROLE | jq"
   ]
  },
  {
   "cell_type": "markdown",
   "metadata": {
    "vscode": {
     "languageId": "shellscript"
    }
   },
   "source": [
    "## Configure a LDAP Dynamic Role\n",
    "\n",
    "For dynamic roles, Vault creates a new LDAP account with a specified TTL. Upon expiry of the TTL, Vault will remove the created LDAP account."
   ]
  },
  {
   "cell_type": "code",
   "execution_count": null,
   "metadata": {
    "vscode": {
     "languageId": "shellscript"
    }
   },
   "outputs": [],
   "source": [
    "# Set the LDAP dynamic role name and TTL\n",
    "export LDAP_DYNAMIC_ROLE=\"my-dynamic-role\"\n",
    "export LDAP_DYNAMIC_ROLE_TTL=\"1h\"\n",
    "\n",
    "# Generate the LDIF files for the dynamic role\n",
    "# cn - common name. sn - surname.\n",
    "# Will be creating the user under the test group\n",
    "tee creation.ldif <<EOF\n",
    "dn: cn={{.Username}},ou=users,$LDAP_DN\n",
    "objectClass: person\n",
    "objectClass: top\n",
    "cn: $LDAP_DYNAMIC_ROLE\n",
    "sn: $LDAP_DYNAMIC_ROLE\n",
    "memberOf: cn=$LDAP_TEST_GROUP,ou=groups,$LDAP_DN\n",
    "userPassword: {{.Password}}\n",
    "EOF\n",
    "\n",
    "tee deletion.ldif <<EOF\n",
    "dn: cn={{.Username}},ou=users,$LDAP_DN\n",
    "changetype: delete\n",
    "EOF\n",
    "\n",
    "# Create the LDAP dynamic role in Vault\n",
    "vault write ldap/role/$LDAP_DYNAMIC_ROLE \\\n",
    "    creation_ldif=@creation.ldif \\\n",
    "    deletion_ldif=@deletion.ldif \\\n",
    "    rollback_ldif=@deletion.ldif \\\n",
    "    default_ttl=$LDAP_DYNAMIC_ROLE_TTL\n",
    "\n",
    "rm creation.ldif deletion.ldif"
   ]
  },
  {
   "cell_type": "code",
   "execution_count": null,
   "metadata": {
    "vscode": {
     "languageId": "shellscript"
    }
   },
   "outputs": [],
   "source": [
    "# Request a dynamic secret. You will see a message \"storing dyamic secret response in cache\" message in the terminal.\n",
    "curl -o dynamic-creds.json http://127.0.0.1:8100/v1/ldap/creds/$LDAP_DYNAMIC_ROLE \n",
    "\n",
    "# Verify that the dynamic user credentials are valid\n",
    "export LDAP_DYNAMIC_USER=$(jq -r .data.username < dynamic-creds.json)\n",
    "export LDAP_DYNAMIC_PASSWORD=$(jq -r .data.password < dynamic-creds.json)\n",
    "echo \"LDAP_DYNAMIC_USER: $LDAP_DYNAMIC_USER\"\n",
    "echo \"LDAP_DYNAMIC_PASSWORD: $LDAP_DYNAMIC_PASSWORD\"\n",
    "echo\n",
    "ldapwhoami -vvv -h localhost -p 389 -D \"cn=$LDAP_DYNAMIC_USER,ou=users,$LDAP_DN\" -x -w \"$LDAP_DYNAMIC_PASSWORD\""
   ]
  },
  {
   "cell_type": "code",
   "execution_count": null,
   "metadata": {
    "vscode": {
     "languageId": "shellscript"
    }
   },
   "outputs": [],
   "source": [
    "# Stop Vault to simulate an outage\n",
    "docker stop vault-enterprise"
   ]
  },
  {
   "cell_type": "code",
   "execution_count": null,
   "metadata": {
    "vscode": {
     "languageId": "shellscript"
    }
   },
   "outputs": [],
   "source": [
    "# Request a dynamic secret again. Notice that you are still able to get the cached credentials.\n",
    "# You will see a message \"returning cached dynamic secret response\" message in the terminal.\n",
    "curl http://127.0.0.1:8100/v1/ldap/creds/$LDAP_DYNAMIC_ROLE | jq"
   ]
  },
  {
   "cell_type": "markdown",
   "metadata": {},
   "source": [
    "# Cleanup"
   ]
  },
  {
   "cell_type": "code",
   "execution_count": null,
   "metadata": {
    "vscode": {
     "languageId": "shellscript"
    }
   },
   "outputs": [],
   "source": [
    "# Cleanup\n",
    "export VAULT_PORT=8200\n",
    "export VAULT_ADDR=\"http://127.0.0.1:${VAULT_PORT}\"\n",
    "export VAULT_TOKEN=\"root\"\n",
    "\n",
    "# Remove temp files\n",
    "rm roleid\n",
    "rm secretid\n",
    "rm proxy.hcl\n",
    "rm pidfile\n",
    "rm openldapsetup.ldif\n",
    "rm dynamic-creds.json\n",
    "\n",
    "# Stop Vault and OpenLDAP\n",
    "docker stop openldap\n",
    "docker stop vault-enterprise"
   ]
  },
  {
   "cell_type": "code",
   "execution_count": null,
   "metadata": {
    "vscode": {
     "languageId": "shellscript"
    }
   },
   "outputs": [],
   "source": [
    "# Terminate the Vault Proxy in the terminal window by using Ctrl + C"
   ]
  },
  {
   "cell_type": "markdown",
   "metadata": {},
   "source": [
    "# Other Useful Commands"
   ]
  },
  {
   "cell_type": "code",
   "execution_count": null,
   "metadata": {
    "vscode": {
     "languageId": "shellscript"
    }
   },
   "outputs": [],
   "source": [
    "# To subscribe to KVv2 write events\n",
    "vault events subscribe kv-v2/data-write"
   ]
  },
  {
   "cell_type": "code",
   "execution_count": null,
   "metadata": {
    "vscode": {
     "languageId": "shellscript"
    }
   },
   "outputs": [],
   "source": [
    "# Retrieve KV secret via Vault CLI kv command.\n",
    "# Note this command does a mount check back to the Vault server and will fail if the Vault Server is not contactable by the Vault Proxy.\n",
    "vault kv get -mount=secret my-application/my-credentials"
   ]
  },
  {
   "cell_type": "code",
   "execution_count": null,
   "metadata": {
    "vscode": {
     "languageId": "shellscript"
    }
   },
   "outputs": [],
   "source": [
    "# Kill any background Vault Proxy process\n",
    "pgrep -f vault | xargs kill"
   ]
  }
 ],
 "metadata": {
  "kernelspec": {
   "display_name": "Bash",
   "language": "bash",
   "name": "bash"
  },
  "language_info": {
   "codemirror_mode": "shell",
   "file_extension": ".sh",
   "mimetype": "text/x-sh",
   "name": "bash"
  },
  "orig_nbformat": 4
 },
 "nbformat": 4,
 "nbformat_minor": 2
}
